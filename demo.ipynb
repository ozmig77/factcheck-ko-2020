{
 "cells": [
  {
   "cell_type": "code",
   "execution_count": null,
   "metadata": {
    "scrolled": true
   },
   "outputs": [],
   "source": [
    "import json\n",
    "from demo import Factcheck\n",
    "import warnings\n",
    "warnings.filterwarnings(\"ignore\")\n",
    "# Load documents\n",
    "factcheck = Factcheck()"
   ]
  },
  {
   "cell_type": "code",
   "execution_count": 20,
   "metadata": {},
   "outputs": [
    {
     "name": "stdout",
     "output_type": "stream",
     "text": [
      "차가운 유리컵에 차가운 물을 붓는경우 혹은, 뜨거운 유리컵에 뜨거운 물을 부으면 컵은 깨진다\n",
      "Processing evidence retrieval\n",
      "Process SS dataloader\n",
      "Recognizing entailment\n",
      "\n",
      "Retrieved Document: 유리\n",
      "Retrived Evidence (Top 2)\n",
      "- 차가운 유리컵에 갑자기 뜨거운 물을 붓거나 반대로 뜨거운 유리컵에 차가운 물을 부으면 깨진다\n",
      "- 이것은 뜨거운 물이나 차가운 물이 닿은 부분은 팽창하거나 수축하지만 뜨거운 물이나 차가운 물이 닿지 않는 바깥면은 그대로이므로 컵에 무리한 힘이 가해지기 때문이다\n",
      "Prediction: FALSE , logit: 0.48278313875198364\n"
     ]
    }
   ],
   "source": [
    "claim = input()\n",
    "\n",
    "doc, sents, pred_logit = factcheck.check(claim)\n",
    "label2name = ['TRUE', 'FALSE', 'NEI']\n",
    "pred_class = pred_logit[0].argmax().item()\n",
    "print(\"\\nRetrieved Document:\", doc['title'])\n",
    "print(\"Retrived Evidence (Top 2)\")\n",
    "for _, sent in sents:\n",
    "    print(\"-\", sent)\n",
    "print(\"Prediction:\", label2name[pred_class], \", logit:\", pred_logit[0][pred_class].item())"
   ]
  },
  {
   "cell_type": "markdown",
   "metadata": {},
   "source": [
    "### Sample Claims\n",
    "\n",
    "SUPPORTS\n",
    "- 정근우는 SK 와이번스 소속이었던적이 있다\n",
    "- 파이어폭스 2는 2006년 10월 24일에 발표되었다\n",
    "- 과테말라에서 일어난 대지진으로 인해 과테말라 수도가 거의 파괴된 적이 있었다\n",
    "- 지구레코드사는 조용필로부터 주요 작품들의 저작권을 빼앗았었다\n",
    "- '한류'라는 단어는 H.O.T의 베이징 공연 이후 처음 나왔다\n",
    "\n",
    "REFUTES\n",
    "- 차가운 유리컵에 차가운 물을 붓는경우 혹은, 뜨거운 유리컵에 뜨거운 물을 부으면 컵은 깨진다\n",
    "- 핑클은 4명으로 이뤄진 걸그룹이고, 그 중 성유리는 핑클에 가장 마지막으로 합류한 멤버이다\n",
    "- 엠마 스톤은 영화 '라 라 랜드'를 통해 브로드웨이 무대에 데뷔하였다\n",
    "- 에드거 앨런 포의 친부와 친모는 1810년 사망하였다\n",
    "- 2002년 월드컵 대회 중, 미국과의 경기에서 동점골을 넣은 후, 안정환은 반지 키스 세레모니를 하였고, 이후 '반지의 제왕'이라는 별명을 얻었다\n",
    "\n",
    "NOT ENOUGH INFO\n",
    "- 맹자는 공자로부터 직접 가르침을 받은 적이 있고, 이를 통해 공자의 사상을 계승하였다\n",
    "- 박효신의 고등학교 동창 중에는 휘성이 있는데 둘은 같은 동아리 활동을 하였다\n",
    "- 윤미래는 타샤(Tasha)라는 이름을 처음엔 거부하였다고 한다\n",
    "- 2016년 발생한 경주 지진으로 인해 약 500억 원의 재산 피해가 발생하였다\n",
    "- '태양의 후예'의 투자를 맡은 (주)넥스트엔터테인먼트월드는 김은숙 작가를 믿고 투자하였다\n"
   ]
  },
  {
   "cell_type": "code",
   "execution_count": null,
   "metadata": {},
   "outputs": [],
   "source": []
  }
 ],
 "metadata": {
  "kernelspec": {
   "display_name": "Python 3",
   "language": "python",
   "name": "python3"
  },
  "language_info": {
   "codemirror_mode": {
    "name": "ipython",
    "version": 3
   },
   "file_extension": ".py",
   "mimetype": "text/x-python",
   "name": "python",
   "nbconvert_exporter": "python",
   "pygments_lexer": "ipython3",
   "version": "3.7.7"
  }
 },
 "nbformat": 4,
 "nbformat_minor": 4
}
